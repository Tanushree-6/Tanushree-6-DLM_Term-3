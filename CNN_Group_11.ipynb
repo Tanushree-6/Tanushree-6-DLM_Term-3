{
  "nbformat": 4,
  "nbformat_minor": 0,
  "metadata": {
    "colab": {
      "provenance": [],
      "gpuType": "T4",
      "include_colab_link": true
    },
    "kernelspec": {
      "name": "python3",
      "display_name": "Python 3"
    },
    "language_info": {
      "name": "python"
    },
    "accelerator": "GPU"
  },
  "cells": [
    {
      "cell_type": "markdown",
      "metadata": {
        "id": "view-in-github",
        "colab_type": "text"
      },
      "source": [
        "<a href=\"https://colab.research.google.com/github/Tanushree-6/Tanushree-6-DLM_Term-3/blob/main/CNN_Group_11.ipynb\" target=\"_parent\"><img src=\"https://colab.research.google.com/assets/colab-badge.svg\" alt=\"Open In Colab\"/></a>"
      ]
    },
    {
      "cell_type": "markdown",
      "source": [
        "# **MNIST Handwritten Digit Recognizer using CNN**"
      ],
      "metadata": {
        "id": "PwP-WpfVFWZt"
      }
    },
    {
      "cell_type": "markdown",
      "source": [
        "### Rahul Bajaj (055036) || Tanushree Nangia (055052)\n",
        "### Section K\n",
        "### Group 11"
      ],
      "metadata": {
        "id": "OOyGeFRrFeWz"
      }
    },
    {
      "cell_type": "markdown",
      "source": [
        "## **Project Information**\n",
        "Title: MNIST Handwritten Digit Recognizer Using CNN\n",
        "\n",
        "Tools & Technologies: TensorFlow, Keras, Pandas, NumPy, Matplotlib, Seaborn, Scikit-Learn\n",
        "\n",
        "Dataset Used: MNIST Handwritten Digit Dataset\n",
        "\n",
        "\n",
        "## **Description of Data**\n",
        "The MNIST dataset consists of 60,000 training images and 10,000 test images of handwritten digits (0-9). Each image is a grayscale 28x28 pixel representation of a single digit. The dataset is labeled, meaning each image has a corresponding numerical label indicating which digit it represents.\n",
        "\n",
        "Data Attributes:\n",
        "\n",
        "- Pixel Values (28x28): Each image is represented by 784 pixel values ranging from 0 to 255.\n",
        "\n",
        "- Label: The correct digit (0-9) associated with each image.\n",
        "\n",
        "## **Project Objectives**\n",
        "- To develop a Convolutional Neural Network (CNN) model to accurately classify handwritten digits.\n",
        "\n",
        "- To preprocess and normalize the dataset for better model performance.\n",
        "\n",
        "- To evaluate the accuracy and performance of the trained model using various metrics.\n",
        "\n",
        "- To provide insights into the model’s performance and possible improvements.\n",
        "\n",
        "## **Problem Statement**\n",
        "- Handwritten digit recognition is a critical task in machine learning and computer vision, with applications in various industries such as finance, postal services, and automated document processing. The primary challenge lies in designing a robust and efficient model capable of accurately classifying digits despite variations in handwriting, image quality, and distortions. This project aims to develop a CNN-based recognition system that minimizes misclassification and enhances the reliability of digit recognition in real-world scenarios.\n",
        "\n",
        "## **CNN Model Architecture**\n",
        "- Input Layer: 28x28 grayscale images.\n",
        "\n",
        "- Convolutional Layers: Used for feature extraction.\n",
        "\n",
        "- Pooling Layers: Reduce the spatial dimensions while retaining features.\n",
        "\n",
        "- Fully Connected Layers: Final layers to classify digits.\n",
        "\n",
        "- Activation Functions: ReLU for hidden layers, Softmax for output.\n",
        "\n",
        "\n",
        "## **Step-by-Step Explanation of the Project**\n",
        "\n",
        "### **1. Loading the Dataset**\n",
        "- We start by loading the MNIST dataset, which contains 60,000 training images and 10,000 test images of handwritten digits (0-9).\n",
        "- Each image is a 28x28 grayscale pixel matrix, representing a single digit.\n",
        "\n",
        "### **2. Preprocessing the Data**\n",
        "- Checking for Missing Values: Ensuring the dataset is clean and complete.\n",
        "- Normalization: Scaling pixel values (0-255) to a range of 0-1 for faster and more stable training.\n",
        "- Reshaping: Converting each image into a format suitable for CNN input (28x28x1, where 1 represents a single color channel).\n",
        "\n",
        "### **3. Splitting the Data**\n",
        "- The dataset is split into training and validation sets to measure performance before final testing.\n",
        "\n",
        "### **4. Building the CNN Model**\n",
        "The Convolutional Neural Network (CNN) consists of:\n",
        "- Input Layer: Accepts 28x28 grayscale images.\n",
        "- Convolutional Layers: Extract essential features like edges and textures.\n",
        "- Pooling Layers: Reduce spatial dimensions while preserving key information.\n",
        "- Fully Connected Layers: Process extracted features for final classification.\n",
        "- Activation Functions:\n",
        "  - ReLU (Rectified Linear Unit): Used in hidden layers for non-linearity.\n",
        "  - Softmax: Used in the final layer to classify digits into one of 10 categories (0-9).\n",
        "\n",
        "### **5. Training the Model**\n",
        "- The model is trained using labeled data with backpropagation and optimization techniques.\n",
        "- Hyperparameters like epochs and batch size are fine-tuned to optimize learning.\n",
        "- Loss and accuracy metrics are tracked to ensure proper training.\n",
        "\n",
        "### **6. Evaluating the Model**\n",
        "- The trained model is tested on unseen test data to measure accuracy.\n",
        "- A confusion matrix is used to analyze misclassifications and understand where the model struggles.\n",
        "\n",
        "\n",
        "## **Observations and Findings**\n",
        "- The model successfully learns from the training dataset and generalizes well on the validation dataset.\n",
        "\n",
        "- Normalization significantly improves model convergence.\n",
        "\n",
        "- The CNN model achieves a high accuracy on the test dataset.\n",
        "\n",
        "- The confusion matrix highlights that misclassification occurs mainly between similar-looking digits (e.g., 3 & 8, 4 & 9).\n",
        "\n",
        "\n",
        "\n",
        "## **Managerial Insights and Recommendations**\n",
        "- Business Application: The model can be integrated into various business applications like digit recognition in financial transactions, document digitization, and automated form processing.\n",
        "\n",
        "- Improvement Areas: Fine-tuning the model with additional training epochs, data augmentation, and hyperparameter optimization could enhance performance.\n",
        "\n",
        "- Deployment Considerations: Deploying the model as a cloud-based API or an edge device application can provide real-time digit recognition capabilities.\n",
        "\n",
        "- Future Enhancements: Exploring deeper architectures or using ensemble models might further boost accuracy and robustness in real-world applications."
      ],
      "metadata": {
        "id": "NXLI5DLCFnfK"
      }
    },
    {
      "cell_type": "markdown",
      "source": [
        "## **Analysis of Data**"
      ],
      "metadata": {
        "id": "eIcPN1K6HItu"
      }
    },
    {
      "cell_type": "code",
      "execution_count": null,
      "metadata": {
        "id": "uHXHHZoH5EJm"
      },
      "outputs": [],
      "source": [
        "import tensorflow as tf\n",
        "from tensorflow.keras import layers\n",
        "from tensorflow.keras.preprocessing.image import ImageDataGenerator\n",
        "import pandas as pd\n",
        "import numpy as np\n",
        "import seaborn as sns\n",
        "import matplotlib.pyplot as plt\n",
        "import matplotlib.image as img\n",
        "from sklearn.model_selection import train_test_split\n",
        "from sklearn.metrics import confusion_matrix\n",
        "import itertools"
      ]
    },
    {
      "cell_type": "code",
      "source": [
        "# Train Data\n",
        "\n",
        "!gdown 14UGW_Hqn8td4iSsxKJaQkEwU14xfhoLh\n",
        "\n",
        "try:\n",
        "  rb36tn52train = pd.read_csv(\"mnist_train.csv\")\n",
        "  print(\"File imported successfully\")\n",
        "except FileNotFoundError:\n",
        "  print(\"File not found.\")"
      ],
      "metadata": {
        "colab": {
          "base_uri": "https://localhost:8080/"
        },
        "id": "iKMztyh45HU0",
        "outputId": "7489c8bf-82f4-4dff-cbdf-12697d123265"
      },
      "execution_count": null,
      "outputs": [
        {
          "output_type": "stream",
          "name": "stdout",
          "text": [
            "Downloading...\n",
            "From (original): https://drive.google.com/uc?id=14UGW_Hqn8td4iSsxKJaQkEwU14xfhoLh\n",
            "From (redirected): https://drive.google.com/uc?id=14UGW_Hqn8td4iSsxKJaQkEwU14xfhoLh&confirm=t&uuid=77becf91-707f-445f-81b8-f29fb6dabec2\n",
            "To: /content/mnist_train.csv\n",
            "100% 110M/110M [00:01<00:00, 69.5MB/s]\n",
            "File imported successfully\n"
          ]
        }
      ]
    },
    {
      "cell_type": "code",
      "source": [
        "# Test Data\n",
        "\n",
        "!gdown 1iE2NMX-xQUbf7rXtqpaSuWC1Jc9Hko6i\n",
        "\n",
        "try:\n",
        "  rb36tn52test = pd.read_csv(\"testfile.csv\")\n",
        "  print(\"File imported successfully\")\n",
        "except FileNotFoundError:\n",
        "  print(\"File not found.\")"
      ],
      "metadata": {
        "colab": {
          "base_uri": "https://localhost:8080/"
        },
        "id": "az51o7BU5N_H",
        "outputId": "627601ed-1caf-4681-959f-09216ed481ad"
      },
      "execution_count": null,
      "outputs": [
        {
          "output_type": "stream",
          "name": "stdout",
          "text": [
            "Downloading...\n",
            "From: https://drive.google.com/uc?id=1iE2NMX-xQUbf7rXtqpaSuWC1Jc9Hko6i\n",
            "To: /content/testfile.csv\n",
            "100% 51.1M/51.1M [00:00<00:00, 60.0MB/s]\n",
            "File imported successfully\n"
          ]
        }
      ]
    },
    {
      "cell_type": "code",
      "source": [
        "# Extracting the target variable (label) from rb36tn52 dataset\n",
        "Y_rb36tn52train = rb36tn52train['label']\n",
        "\n",
        "# Dropping the label column from the dataset to prepare features for training\n",
        "X_rb36tn52train = rb36tn52train.drop(labels=['label'], axis=1)\n",
        "\n",
        "# Freeing up memory by deleting the original dataset\n",
        "del rb36tn52train\n",
        "\n",
        "# Checking the distribution of the target variable in the training set\n",
        "Y_rb36tn52train.value_counts()\n"
      ],
      "metadata": {
        "colab": {
          "base_uri": "https://localhost:8080/",
          "height": 429
        },
        "id": "yBPfyKGq5Qiw",
        "outputId": "39942f37-fa71-4efe-a5f0-6b9fad7bb845"
      },
      "execution_count": null,
      "outputs": [
        {
          "output_type": "execute_result",
          "data": {
            "text/plain": [
              "label\n",
              "1    6742\n",
              "7    6265\n",
              "3    6131\n",
              "2    5958\n",
              "9    5949\n",
              "0    5923\n",
              "6    5918\n",
              "8    5851\n",
              "4    5842\n",
              "5    5421\n",
              "Name: count, dtype: int64"
            ],
            "text/html": [
              "<div>\n",
              "<style scoped>\n",
              "    .dataframe tbody tr th:only-of-type {\n",
              "        vertical-align: middle;\n",
              "    }\n",
              "\n",
              "    .dataframe tbody tr th {\n",
              "        vertical-align: top;\n",
              "    }\n",
              "\n",
              "    .dataframe thead th {\n",
              "        text-align: right;\n",
              "    }\n",
              "</style>\n",
              "<table border=\"1\" class=\"dataframe\">\n",
              "  <thead>\n",
              "    <tr style=\"text-align: right;\">\n",
              "      <th></th>\n",
              "      <th>count</th>\n",
              "    </tr>\n",
              "    <tr>\n",
              "      <th>label</th>\n",
              "      <th></th>\n",
              "    </tr>\n",
              "  </thead>\n",
              "  <tbody>\n",
              "    <tr>\n",
              "      <th>1</th>\n",
              "      <td>6742</td>\n",
              "    </tr>\n",
              "    <tr>\n",
              "      <th>7</th>\n",
              "      <td>6265</td>\n",
              "    </tr>\n",
              "    <tr>\n",
              "      <th>3</th>\n",
              "      <td>6131</td>\n",
              "    </tr>\n",
              "    <tr>\n",
              "      <th>2</th>\n",
              "      <td>5958</td>\n",
              "    </tr>\n",
              "    <tr>\n",
              "      <th>9</th>\n",
              "      <td>5949</td>\n",
              "    </tr>\n",
              "    <tr>\n",
              "      <th>0</th>\n",
              "      <td>5923</td>\n",
              "    </tr>\n",
              "    <tr>\n",
              "      <th>6</th>\n",
              "      <td>5918</td>\n",
              "    </tr>\n",
              "    <tr>\n",
              "      <th>8</th>\n",
              "      <td>5851</td>\n",
              "    </tr>\n",
              "    <tr>\n",
              "      <th>4</th>\n",
              "      <td>5842</td>\n",
              "    </tr>\n",
              "    <tr>\n",
              "      <th>5</th>\n",
              "      <td>5421</td>\n",
              "    </tr>\n",
              "  </tbody>\n",
              "</table>\n",
              "</div><br><label><b>dtype:</b> int64</label>"
            ]
          },
          "metadata": {},
          "execution_count": 5
        }
      ]
    },
    {
      "cell_type": "code",
      "source": [
        "# Checking for any null or missing values in the feature dataset\n",
        "X_rb36tn52train.isnull().any().describe()\n"
      ],
      "metadata": {
        "colab": {
          "base_uri": "https://localhost:8080/",
          "height": 210
        },
        "id": "0vaJzf8H5hUa",
        "outputId": "eb4d69aa-8c4d-42d5-e612-3f10a44e5691"
      },
      "execution_count": null,
      "outputs": [
        {
          "output_type": "execute_result",
          "data": {
            "text/plain": [
              "count       784\n",
              "unique        1\n",
              "top       False\n",
              "freq        784\n",
              "dtype: object"
            ],
            "text/html": [
              "<div>\n",
              "<style scoped>\n",
              "    .dataframe tbody tr th:only-of-type {\n",
              "        vertical-align: middle;\n",
              "    }\n",
              "\n",
              "    .dataframe tbody tr th {\n",
              "        vertical-align: top;\n",
              "    }\n",
              "\n",
              "    .dataframe thead th {\n",
              "        text-align: right;\n",
              "    }\n",
              "</style>\n",
              "<table border=\"1\" class=\"dataframe\">\n",
              "  <thead>\n",
              "    <tr style=\"text-align: right;\">\n",
              "      <th></th>\n",
              "      <th>0</th>\n",
              "    </tr>\n",
              "  </thead>\n",
              "  <tbody>\n",
              "    <tr>\n",
              "      <th>count</th>\n",
              "      <td>784</td>\n",
              "    </tr>\n",
              "    <tr>\n",
              "      <th>unique</th>\n",
              "      <td>1</td>\n",
              "    </tr>\n",
              "    <tr>\n",
              "      <th>top</th>\n",
              "      <td>False</td>\n",
              "    </tr>\n",
              "    <tr>\n",
              "      <th>freq</th>\n",
              "      <td>784</td>\n",
              "    </tr>\n",
              "  </tbody>\n",
              "</table>\n",
              "</div><br><label><b>dtype:</b> object</label>"
            ]
          },
          "metadata": {},
          "execution_count": 6
        }
      ]
    },
    {
      "cell_type": "code",
      "source": [
        "# Checking for any null or missing values in the test dataset\n",
        "rb36tn52test.isnull().any().describe()"
      ],
      "metadata": {
        "colab": {
          "base_uri": "https://localhost:8080/",
          "height": 210
        },
        "id": "nEpYcgzh56O4",
        "outputId": "1bb80b16-9ad1-495c-e614-45520ffdc29d"
      },
      "execution_count": null,
      "outputs": [
        {
          "output_type": "execute_result",
          "data": {
            "text/plain": [
              "count       784\n",
              "unique        1\n",
              "top       False\n",
              "freq        784\n",
              "dtype: object"
            ],
            "text/html": [
              "<div>\n",
              "<style scoped>\n",
              "    .dataframe tbody tr th:only-of-type {\n",
              "        vertical-align: middle;\n",
              "    }\n",
              "\n",
              "    .dataframe tbody tr th {\n",
              "        vertical-align: top;\n",
              "    }\n",
              "\n",
              "    .dataframe thead th {\n",
              "        text-align: right;\n",
              "    }\n",
              "</style>\n",
              "<table border=\"1\" class=\"dataframe\">\n",
              "  <thead>\n",
              "    <tr style=\"text-align: right;\">\n",
              "      <th></th>\n",
              "      <th>0</th>\n",
              "    </tr>\n",
              "  </thead>\n",
              "  <tbody>\n",
              "    <tr>\n",
              "      <th>count</th>\n",
              "      <td>784</td>\n",
              "    </tr>\n",
              "    <tr>\n",
              "      <th>unique</th>\n",
              "      <td>1</td>\n",
              "    </tr>\n",
              "    <tr>\n",
              "      <th>top</th>\n",
              "      <td>False</td>\n",
              "    </tr>\n",
              "    <tr>\n",
              "      <th>freq</th>\n",
              "      <td>784</td>\n",
              "    </tr>\n",
              "  </tbody>\n",
              "</table>\n",
              "</div><br><label><b>dtype:</b> object</label>"
            ]
          },
          "metadata": {},
          "execution_count": 7
        }
      ]
    },
    {
      "cell_type": "markdown",
      "source": [
        "# **Normalisation**"
      ],
      "metadata": {
        "id": "K4bJAiX36B4l"
      }
    },
    {
      "cell_type": "code",
      "source": [
        "# Normalizing the feature dataset by dividing by 255 (scaling pixel values between 0 and 1)\n",
        "X_rb36tn52train = X_rb36tn52train / 255\n",
        "\n",
        "# Normalizing the test dataset by dividing by 255 (scaling pixel values between 0 and 1)\n",
        "rb36tn52test = rb36tn52test / 255\n"
      ],
      "metadata": {
        "id": "nkLn3ybS5-T8"
      },
      "execution_count": null,
      "outputs": []
    },
    {
      "cell_type": "markdown",
      "source": [
        "# **Reshape**"
      ],
      "metadata": {
        "id": "-D1wzr3a6NRR"
      }
    },
    {
      "cell_type": "code",
      "source": [
        "# Converting the DataFrame to a numpy array and reshaping the feature dataset into a 4D array for model input\n",
        "X_rb36tn52train = X_rb36tn52train.values.reshape(-1, 28, 28, 1)\n",
        "\n"
      ],
      "metadata": {
        "id": "F48_jR186KtF"
      },
      "execution_count": null,
      "outputs": []
    },
    {
      "cell_type": "code",
      "source": [
        "# Convert the DataFrame to a numpy array and reshape the test dataset into a 4D array\n",
        "rb36tn52test = rb36tn52test.values.reshape(-1, 28, 28, 1)\n"
      ],
      "metadata": {
        "id": "P3EesXjx6S53"
      },
      "execution_count": null,
      "outputs": []
    },
    {
      "cell_type": "code",
      "source": [
        "# Converting the labels into a one-hot encoded format for classification\n",
        "Y_rb36tn52train = tf.keras.utils.to_categorical(Y_rb36tn52train, num_classes=10)"
      ],
      "metadata": {
        "id": "VQrbmesq6lzW"
      },
      "execution_count": null,
      "outputs": []
    },
    {
      "cell_type": "markdown",
      "source": [
        "# **Train and Validation Data Split**"
      ],
      "metadata": {
        "id": "yzWCw2ab7jE2"
      }
    },
    {
      "cell_type": "code",
      "source": [
        "# Splitting the dataset into training and validation sets (90% training, 10% validation)\n",
        "X_rb36tn52train, X_val, Y_rb36tn52train, Y_val = train_test_split(X_rb36tn52train, Y_rb36tn52train,\n",
        "                                                                  test_size=0.1, random_state=503652)\n"
      ],
      "metadata": {
        "id": "Gn7bo3Rz60wk"
      },
      "execution_count": null,
      "outputs": []
    },
    {
      "cell_type": "code",
      "source": [
        "# Displaying the first image in the training set (grayscale channel 0)\n",
        "g = plt.imshow(X_rb36tn52train[3][:,:,0])\n"
      ],
      "metadata": {
        "colab": {
          "base_uri": "https://localhost:8080/",
          "height": 430
        },
        "id": "UqdwnZmP7WlK",
        "outputId": "ecff111b-e247-44c5-d398-bb60eecdd75f"
      },
      "execution_count": null,
      "outputs": [
        {
          "output_type": "display_data",
          "data": {
            "text/plain": [
              "<Figure size 640x480 with 1 Axes>"
            ],
            "image/png": "[encoded data removed]"
          },
          "metadata": {}
        }
      ]
    },
    {
      "cell_type": "markdown",
      "source": [
        "# **Model Building**"
      ],
      "metadata": {
        "id": "oPNeAH0t7ntc"
      }
    },
    {
      "cell_type": "code",
      "source": [
        "# CNN Architecture: [[Conv2D->relu]*2 -> MaxPool2D -> Dropout]*2 -> Flatten -> Dense -> Dropout -> Out\n",
        "model = tf.keras.Sequential()\n",
        "\n",
        "# First convolutional block: Conv2D -> ReLU -> Conv2D -> ReLU -> MaxPool2D -> Dropout\n",
        "model.add(layers.Conv2D(filters=32, kernel_size=(5, 5), padding='Same',\n",
        "                       activation=tf.nn.relu, input_shape=(28, 28, 1)))\n",
        "model.add(layers.Conv2D(filters=32, kernel_size=(5, 5), padding='Same',\n",
        "                       activation=tf.nn.relu))\n",
        "model.add(layers.MaxPool2D(pool_size=(2, 2)))\n",
        "model.add(layers.Dropout(0.25))\n",
        "\n",
        "# Second convolutional block: Conv2D -> ReLU -> Conv2D -> ReLU -> MaxPool2D -> Dropout\n",
        "model.add(layers.Conv2D(filters=64, kernel_size=(3, 3), padding='Same',\n",
        "                       activation=tf.nn.relu))\n",
        "model.add(layers.Conv2D(filters=64, kernel_size=(3, 3), padding='Same',\n",
        "                       activation=tf.nn.relu))\n",
        "model.add(layers.MaxPool2D(pool_size=(2, 2), strides=(2, 2)))\n",
        "model.add(layers.Dropout(0.25))\n",
        "\n",
        "# Flatten the output and add Dense layers\n",
        "model.add(layers.Flatten())\n",
        "model.add(layers.Dense(256, activation=tf.nn.relu))\n",
        "model.add(layers.Dropout(0.25))\n",
        "\n",
        "# Output layer: Dense with 10 neurons for 10 classes (softmax activation for multi-class classification)\n",
        "model.add(layers.Dense(10, activation=tf.nn.softmax))\n"
      ],
      "metadata": {
        "colab": {
          "base_uri": "https://localhost:8080/"
        },
        "id": "Rf-M0F_27aDD",
        "outputId": "45e39682-10bc-405c-df0d-e4f6119cf121"
      },
      "execution_count": null,
      "outputs": [
        {
          "output_type": "stream",
          "name": "stderr",
          "text": [
            "/usr/local/lib/python3.11/dist-packages/keras/src/layers/convolutional/base_conv.py:107: UserWarning: Do not pass an `input_shape`/`input_dim` argument to a layer. When using Sequential models, prefer using an `Input(shape)` object as the first layer in the model instead.\n",
            "  super().__init__(activity_regularizer=activity_regularizer, **kwargs)\n"
          ]
        }
      ]
    },
    {
      "cell_type": "code",
      "source": [
        "# Defining the optimizer for training the model using RMSprop with specified parameters\n",
        "rb36tn52_optimizer = tf.keras.optimizers.RMSprop(learning_rate=0.001, rho=0.9, epsilon=1e-08)\n",
        "# Compiling the model with the specified optimizer, loss function, and evaluation metric\n",
        "model.compile(optimizer=rb36tn52_optimizer, loss='categorical_crossentropy',\n",
        "              metrics=[\"accuracy\"])\n",
        "\n",
        "# Setting up a learning rate annealer to reduce the learning rate if validation accuracy plateaus\n",
        "learning_rate_reduction = tf.keras.callbacks.ReduceLROnPlateau(monitor='val_accuracy',\n",
        "                                                              patience=3,\n",
        "                                                              verbose=1,\n",
        "                                                              factor=0.5,\n",
        "                                                              min_lr=0.00001)\n",
        "\n",
        "# Defining the number of epochs and batch size for training\n",
        "rb36tn52_epochs = 10\n",
        "rb36tn52_batch_size = 128\n"
      ],
      "metadata": {
        "id": "aK58HY3r75sA"
      },
      "execution_count": null,
      "outputs": []
    },
    {
      "cell_type": "code",
      "source": [
        "from tensorflow.keras.preprocessing.image import ImageDataGenerator\n",
        "\n",
        "# Creating an ImageDataGenerator object for real-time data augmentation\n",
        "datagen = ImageDataGenerator(\n",
        "        featurewise_center=False,  # set input mean to 0 over the dataset\n",
        "        samplewise_center=False,  # set each sample mean to 0\n",
        "        featurewise_std_normalization=False,  # divide inputs by std of the dataset\n",
        "        samplewise_std_normalization=False,  # divide each input by its std\n",
        "        zca_whitening=False,  # apply ZCA whitening\n",
        "        rotation_range=10,  # randomly rotate images in the range (degrees, 0 to 180)\n",
        "        zoom_range=0.1,  # Randomly zoom image\n",
        "        width_shift_range=0.1,  # randomly shift images horizontally (fraction of total width)\n",
        "        height_shift_range=0.1,  # randomly shift images vertically (fraction of total height)\n",
        "        horizontal_flip=False,  # randomly flip images\n",
        "        vertical_flip=False)  # randomly flip images\n",
        "\n",
        "# Fitting the data generator on the training set\n",
        "datagen.fit(X_rb36tn52train)\n"
      ],
      "metadata": {
        "id": "w8eZjdN68JRt"
      },
      "execution_count": null,
      "outputs": []
    },
    {
      "cell_type": "markdown",
      "source": [
        "# **Model Fitting**"
      ],
      "metadata": {
        "id": "Nl1maywp8UIY"
      }
    },
    {
      "cell_type": "code",
      "source": [
        "# Training the model using the augmented data from the datagen\n",
        "rb36_tn52history = model.fit(datagen.flow(X_rb36tn52train, Y_rb36tn52train, batch_size=rb36tn52_batch_size),\n",
        "                    epochs=rb36tn52_epochs,\n",
        "                    validation_data=(X_val, Y_val),\n",
        "                    verbose=2,\n",
        "                    steps_per_epoch=X_rb36tn52train.shape[0] // rb36tn52_batch_size,\n",
        "                    callbacks=[learning_rate_reduction])\n"
      ],
      "metadata": {
        "colab": {
          "base_uri": "https://localhost:8080/"
        },
        "id": "k3xaGUg98Ss2",
        "outputId": "11596b55-40db-4deb-bf12-6f6a70363964"
      },
      "execution_count": null,
      "outputs": [
        {
          "output_type": "stream",
          "name": "stdout",
          "text": [
            "Epoch 1/10\n"
          ]
        },
        {
          "output_type": "stream",
          "name": "stderr",
          "text": [
            "/usr/local/lib/python3.11/dist-packages/keras/src/trainers/data_adapters/py_dataset_adapter.py:121: UserWarning: Your `PyDataset` class should call `super().__init__(**kwargs)` in its constructor. `**kwargs` can include `workers`, `use_multiprocessing`, `max_queue_size`. Do not pass these arguments to `fit()`, as they will be ignored.\n",
            "  self._warn_if_super_not_called()\n"
          ]
        },
        {
          "output_type": "stream",
          "name": "stdout",
          "text": [
            "421/421 - 16s - 39ms/step - accuracy: 0.9922 - loss: 0.0256 - val_accuracy: 0.9942 - val_loss: 0.0217 - learning_rate: 2.5000e-04\n",
            "Epoch 2/10\n"
          ]
        },
        {
          "output_type": "stream",
          "name": "stderr",
          "text": [
            "/usr/local/lib/python3.11/dist-packages/keras/src/trainers/epoch_iterator.py:107: UserWarning: Your input ran out of data; interrupting training. Make sure that your dataset or generator can generate at least `steps_per_epoch * epochs` batches. You may need to use the `.repeat()` function when building your dataset.\n",
            "  self._interrupted_warning()\n"
          ]
        },
        {
          "output_type": "stream",
          "name": "stdout",
          "text": [
            "421/421 - 1s - 2ms/step - accuracy: 0.9922 - loss: 0.0207 - val_accuracy: 0.9943 - val_loss: 0.0216 - learning_rate: 2.5000e-04\n",
            "Epoch 3/10\n",
            "421/421 - 17s - 40ms/step - accuracy: 0.9926 - loss: 0.0239 - val_accuracy: 0.9958 - val_loss: 0.0193 - learning_rate: 2.5000e-04\n",
            "Epoch 4/10\n",
            "421/421 - 1s - 1ms/step - accuracy: 0.9766 - loss: 0.0616 - val_accuracy: 0.9953 - val_loss: 0.0197 - learning_rate: 2.5000e-04\n",
            "Epoch 5/10\n",
            "421/421 - 18s - 44ms/step - accuracy: 0.9921 - loss: 0.0246 - val_accuracy: 0.9950 - val_loss: 0.0196 - learning_rate: 2.5000e-04\n",
            "Epoch 6/10\n",
            "\n",
            "Epoch 6: ReduceLROnPlateau reducing learning rate to 0.0001250000059371814.\n",
            "421/421 - 0s - 1ms/step - accuracy: 0.9922 - loss: 0.0316 - val_accuracy: 0.9950 - val_loss: 0.0198 - learning_rate: 2.5000e-04\n",
            "Epoch 7/10\n",
            "421/421 - 21s - 49ms/step - accuracy: 0.9931 - loss: 0.0219 - val_accuracy: 0.9963 - val_loss: 0.0179 - learning_rate: 1.2500e-04\n",
            "Epoch 8/10\n",
            "421/421 - 0s - 1ms/step - accuracy: 0.9844 - loss: 0.0826 - val_accuracy: 0.9962 - val_loss: 0.0182 - learning_rate: 1.2500e-04\n",
            "Epoch 9/10\n",
            "421/421 - 15s - 37ms/step - accuracy: 0.9928 - loss: 0.0227 - val_accuracy: 0.9958 - val_loss: 0.0193 - learning_rate: 1.2500e-04\n",
            "Epoch 10/10\n",
            "\n",
            "Epoch 10: ReduceLROnPlateau reducing learning rate to 6.25000029685907e-05.\n",
            "421/421 - 0s - 1ms/step - accuracy: 1.0000 - loss: 0.0049 - val_accuracy: 0.9958 - val_loss: 0.0193 - learning_rate: 1.2500e-04\n"
          ]
        }
      ]
    },
    {
      "cell_type": "code",
      "source": [
        "# Saving the model for further faster processing\n",
        "model.save(\"rb36tn52CNN.keras\", include_optimizer=True)\n"
      ],
      "metadata": {
        "id": "tbauYubx8fCw"
      },
      "execution_count": null,
      "outputs": []
    },
    {
      "cell_type": "code",
      "source": [
        "from tensorflow.keras.models import load_model\n",
        "\n",
        "# Define a custom object to map 'softmax_v2' to 'softmax'\n",
        "custom_objects = {'softmax_v2': tf.keras.activations.softmax}\n",
        "\n",
        "# Loading the saved model with the custom object mapping\n",
        "rb36tn52cnn_model = load_model(\"rb36tn52CNN.keras\", custom_objects=custom_objects)\n"
      ],
      "metadata": {
        "id": "-MTJx5nu-cuy"
      },
      "execution_count": null,
      "outputs": []
    },
    {
      "cell_type": "markdown",
      "source": [
        "# **Analyzing the model**"
      ],
      "metadata": {
        "id": "SnAW5wqQ_QC5"
      }
    },
    {
      "cell_type": "code",
      "source": [
        "# The loss and accuracy curves for training and validation\n",
        "fig, ax = plt.subplots(2, 1, figsize=(10, 8))\n",
        "\n",
        "# Plotting Training and Validation Loss\n",
        "ax[0].plot(rb36_tn52history.history['loss'], color='lightblue', label=\"Training Loss\", linewidth=2)\n",
        "ax[0].plot(rb36_tn52history.history['val_loss'], color='salmon', label=\"Validation Loss\", linewidth=2)\n",
        "ax[0].legend(loc='best', shadow=True)\n",
        "ax[0].set_title('Training vs. Validation Loss')\n",
        "ax[0].set_xlabel('Epochs')\n",
        "ax[0].set_ylabel('Loss')\n",
        "ax[0].grid(True)\n",
        "\n",
        "# Plotting Training and Validation Accuracy\n",
        "ax[1].plot(rb36_tn52history.history['accuracy'], color='lightgreen', label=\"Training Accuracy\", linewidth=2)\n",
        "ax[1].plot(rb36_tn52history.history['val_accuracy'], color='lightcoral', label=\"Validation Accuracy\", linewidth=2)\n",
        "ax[1].legend(loc='best', shadow=True)\n",
        "ax[1].set_title('Training vs. Validation Accuracy')\n",
        "ax[1].set_xlabel('Epochs')\n",
        "ax[1].set_ylabel('Accuracy')\n",
        "ax[1].grid(True)\n",
        "\n",
        "# Improve layout and show the plots\n",
        "plt.tight_layout()\n",
        "plt.show()\n"
      ],
      "metadata": {
        "colab": {
          "base_uri": "https://localhost:8080/",
          "height": 807
        },
        "id": "8Z9CY-si_OYA",
        "outputId": "47dbba65-3ec8-4f74-bf20-23e7bfd3dc6a"
      },
      "execution_count": null,
      "outputs": [
        {
          "output_type": "display_data",
          "data": {
            "text/plain": [
              "<Figure size 1000x800 with 2 Axes>"
            ],
            "image/png": "[encoded data removed]"
          },
          "metadata": {}
        }
      ]
    },
    {
      "cell_type": "code",
      "source": [
        "import numpy as np\n",
        "import matplotlib.pyplot as plt\n",
        "import itertools\n",
        "from sklearn.metrics import confusion_matrix\n",
        "\n",
        "# Function to plot confusion matrix\n",
        "def plot_confusion_matrix(cm, classes,\n",
        "                          normalize=False,\n",
        "                          title='Confusion matrix',\n",
        "                          cmap=plt.cm.Greens):\n",
        "    \"\"\"\n",
        "    This function prints and plots the confusion matrix.\n",
        "    Normalization can be applied by setting `normalize=True`.\n",
        "    \"\"\"\n",
        "    plt.imshow(cm, interpolation='nearest', cmap=cmap)\n",
        "    plt.title(title)\n",
        "    plt.colorbar()\n",
        "    tick_marks = np.arange(len(classes))\n",
        "    plt.xticks(tick_marks, classes, rotation=45)\n",
        "    plt.yticks(tick_marks, classes)\n",
        "\n",
        "    if normalize:\n",
        "        cm = cm.astype('float') / cm.sum(axis=1)[:, np.newaxis]\n",
        "\n",
        "    thresh = cm.max() / 2.\n",
        "    for i, j in itertools.product(range(cm.shape[0]), range(cm.shape[1])):\n",
        "        plt.text(j, i, cm[i, j],\n",
        "                 horizontalalignment=\"center\",\n",
        "                 color=\"white\" if cm[i, j] > thresh else \"black\")\n",
        "\n",
        "    plt.tight_layout()\n",
        "    plt.ylabel('True label')\n",
        "    plt.xlabel('Predicted label')\n",
        "\n",
        "# Predict the values from the validation dataset\n",
        "Y_pred = model.predict(X_val)\n",
        "\n",
        "# Convert predictions classes to one hot vectors\n",
        "Y_pred_classes = np.argmax(Y_pred, axis=1)\n",
        "\n",
        "# Convert validation observations to one hot vectors\n",
        "Y_true = np.argmax(Y_val, axis=1)\n",
        "\n",
        "# Compute the confusion matrix\n",
        "confusion_mtx = confusion_matrix(Y_true, Y_pred_classes)\n",
        "\n",
        "# Plot the confusion matrix with a green color map\n",
        "plot_confusion_matrix(confusion_mtx, classes=[str(i) for i in range(10)], title='Confusion Matrix for Validation Data')\n",
        "plt.show()\n",
        "\n"
      ],
      "metadata": {
        "colab": {
          "base_uri": "https://localhost:8080/",
          "height": 523
        },
        "id": "zTN-SELH_aT8",
        "outputId": "02e08f09-ecd3-453f-d47c-4307d8b6dc1c"
      },
      "execution_count": null,
      "outputs": [
        {
          "output_type": "stream",
          "name": "stdout",
          "text": [
            "\u001b[1m188/188\u001b[0m \u001b[32m━━━━━━━━━━━━━━━━━━━━\u001b[0m\u001b[37m\u001b[0m \u001b[1m1s\u001b[0m 4ms/step\n"
          ]
        },
        {
          "output_type": "display_data",
          "data": {
            "text/plain": [
              "<Figure size 640x480 with 2 Axes>"
            ],
            "image/png": "[encoded data removed]"
          },
          "metadata": {}
        }
      ]
    },
    {
      "cell_type": "markdown",
      "source": [
        "# **Important Error**"
      ],
      "metadata": {
        "id": "RDSxwGcA_yzw"
      }
    },
    {
      "cell_type": "code",
      "source": [
        "# Errors are difference between predicted labels and true labels\n",
        "errors = (Y_pred_classes - Y_true != 0)\n",
        "\n",
        "Y_pred_classes_errors = Y_pred_classes[errors]\n",
        "Y_pred_errors = Y_pred[errors]\n",
        "Y_true_errors = Y_true[errors]\n",
        "X_val_errors = X_val[errors]\n",
        "\n",
        "def display_errors(errors_index,img_errors,pred_errors, obs_errors):\n",
        "    \"\"\" This function shows 6 images with their predicted and real labels\"\"\"\n",
        "    n = 0\n",
        "    nrows = 2\n",
        "    ncols = 3\n",
        "    fig, ax = plt.subplots(nrows,ncols,sharex=True,sharey=True)\n",
        "    for row in range(nrows):\n",
        "        for col in range(ncols):\n",
        "            error = errors_index[n]\n",
        "            ax[row,col].imshow((img_errors[error]).reshape((28,28)))\n",
        "            ax[row,col].set_title(\" Predicted :{} True :{}\".format(pred_errors[error],obs_errors[error]))\n",
        "            n += 1\n",
        "\n",
        "# Probabilities of the wrong predicted numbers\n",
        "Y_pred_errors_prob = np.max(Y_pred_errors,axis = 1)\n",
        "\n",
        "# Predicted probabilities of the true values in the error set\n",
        "true_prob_errors = np.diagonal(np.take(Y_pred_errors, Y_true_errors, axis=1))\n",
        "\n",
        "# Difference between the probability of the predicted label and the true label\n",
        "delta_pred_true_errors = Y_pred_errors_prob - true_prob_errors\n",
        "\n",
        "# Sorted list of the delta prob errors\n",
        "sorted_dela_errors = np.argsort(delta_pred_true_errors)\n",
        "\n",
        "# Top 6 errors\n",
        "most_important_errors = sorted_dela_errors[-6:]\n",
        "\n",
        "# Show the top 6 errors\n",
        "display_errors(most_important_errors, X_val_errors, Y_pred_classes_errors, Y_true_errors)\n",
        "\n"
      ],
      "metadata": {
        "colab": {
          "base_uri": "https://localhost:8080/",
          "height": 430
        },
        "id": "MGvwH0Dl_tzj",
        "outputId": "26c70d1f-d8f9-4b58-cfa0-a6624dfadda2"
      },
      "execution_count": null,
      "outputs": [
        {
          "output_type": "display_data",
          "data": {
            "text/plain": [
              "<Figure size 640x480 with 6 Axes>"
            ],
            "image/png": "[encoded data removed]"
          },
          "metadata": {}
        }
      ]
    },
    {
      "cell_type": "markdown",
      "source": [
        "# **Predicting the test data**"
      ],
      "metadata": {
        "id": "-SPkLRipBnrd"
      }
    },
    {
      "cell_type": "code",
      "source": [
        "\n",
        "# Load the model with custom activation function 'softmax_v2'\n",
        "custom_objects = {'softmax_v2': tf.keras.activations.softmax}\n",
        "\n",
        "rb36tn52_cnn_model = load_model(\"rb36tn52CNN.keras\", custom_objects=custom_objects)\n",
        "\n",
        "# Predict results for the test set\n",
        "rb36tn52_results = rb36tn52_cnn_model.predict(rb36tn52test)\n",
        "\n",
        "# Select the index with the maximum probability\n",
        "rb36tn52_results = np.argmax(rb36tn52_results, axis=1)\n",
        "\n",
        "# Convert the results to a pandas Series\n",
        "rb36tn52_results = pd.Series(rb36tn52_results, name=\"Label\")\n",
        "\n"
      ],
      "metadata": {
        "colab": {
          "base_uri": "https://localhost:8080/"
        },
        "id": "O42J0kkLAVPT",
        "outputId": "93e94347-93d7-44a1-a3d1-6199bbf75595"
      },
      "execution_count": null,
      "outputs": [
        {
          "output_type": "stream",
          "name": "stdout",
          "text": [
            "\u001b[1m875/875\u001b[0m \u001b[32m━━━━━━━━━━━━━━━━━━━━\u001b[0m\u001b[37m\u001b[0m \u001b[1m5s\u001b[0m 4ms/step\n"
          ]
        }
      ]
    },
    {
      "cell_type": "code",
      "source": [
        "\n",
        "# Select a subset of images to display (e.g., the first 10)\n",
        "num_images_to_display = 10\n",
        "images = rb36tn52test[:num_images_to_display]\n",
        "predicted_labels = rb36tn52_results[:num_images_to_display]\n",
        "\n",
        "# Create a figure and axes for the images\n",
        "fig, axes = plt.subplots(1, num_images_to_display, figsize=(15, 3))\n",
        "\n",
        "# Iterate through the images and display them with their predicted labels\n",
        "for i, ax in enumerate(axes):\n",
        "    ax.imshow(images[i].reshape(28, 28), cmap='gray')  # Reshape and display the image\n",
        "    ax.set_title(f\"Predicted: {predicted_labels[i]}\")  # Set the title with the predicted label\n",
        "    ax.axis('off')  # Turn off the axes\n",
        "\n",
        "plt.show()  # Show the figure\n"
      ],
      "metadata": {
        "colab": {
          "base_uri": "https://localhost:8080/",
          "height": 157
        },
        "id": "DAm3xF1TCAMq",
        "outputId": "deba5146-cdcf-47ce-c1ab-795b3c716713"
      },
      "execution_count": null,
      "outputs": [
        {
          "output_type": "display_data",
          "data": {
            "text/plain": [
              "<Figure size 1500x300 with 10 Axes>"
            ],
            "image/png": "[encoded data removed]"
          },
          "metadata": {}
        }
      ]
    },
    {
      "cell_type": "code",
      "source": [
        "import os\n",
        "import numpy as np\n",
        "from PIL import Image\n",
        "import zipfile\n",
        "\n",
        "# Create a ZIP file to store the images with a more descriptive name\n",
        "output_zip = 'rb36tn52_predicted_images.zip'\n",
        "\n",
        "# Open a new ZIP file in write mode\n",
        "with zipfile.ZipFile(output_zip, 'w') as zipf:\n",
        "    # Iterate through the test images and save them with more descriptive predicted labels\n",
        "    for i, image in enumerate(rb36tn52test):\n",
        "        predicted_label = rb36tn52_results[i]  # Get the predicted label for the current image\n",
        "        predicted_label_name = f\"Class_{predicted_label}\"  # More descriptive label (e.g., Class_7)\n",
        "\n",
        "        image_data = (image.reshape(28, 28) * 255).astype(np.uint8)  # Reshape and scale to 0-255\n",
        "        image = Image.fromarray(image_data, mode='L')  # Create a PIL Image object\n",
        "\n",
        "        # Generate a temporary filename with .jpg extension\n",
        "        image_filename = f'image_{i}_predicted_{predicted_label_name}.jpg'\n",
        "\n",
        "        # Save the image as JPG\n",
        "        image.save(image_filename, format='JPEG')\n",
        "\n",
        "        # Add the file to the ZIP archive\n",
        "        zipf.write(image_filename)\n",
        "\n",
        "        # Remove the temporary file\n",
        "        os.remove(image_filename)\n",
        "\n",
        "print(f\"Images saved to '{output_zip}' file.\")\n"
      ],
      "metadata": {
        "colab": {
          "base_uri": "https://localhost:8080/"
        },
        "id": "8WfZN8S0C3z-",
        "outputId": "3aa514d1-36f1-4868-f20e-ba1916ee67ab"
      },
      "execution_count": null,
      "outputs": [
        {
          "output_type": "stream",
          "name": "stdout",
          "text": [
            "Images saved to 'rb36tn52_predicted_images.zip' file.\n"
          ]
        }
      ]
    },
    {
      "cell_type": "code",
      "source": [
        "\n",
        "# Assuming 'results' contains the predicted labels for the test images\n",
        "submission = pd.concat([pd.Series(range(1, len(rb36tn52_results) + 1), name=\"ImageId\"),\n",
        "                        pd.Series(rb36tn52_results, name=\"Label\")], axis=1)\n",
        "\n",
        "# Save the submission DataFrame to a CSV file\n",
        "submission.to_csv(\"rb36tn52_cnn_predictions_mnist.csv\", index=False)\n",
        "\n",
        "\n",
        "print(\"Submission file 'rb36tn52_cnn_predictions_mnist.csv' has been saved.\")\n"
      ],
      "metadata": {
        "colab": {
          "base_uri": "https://localhost:8080/"
        },
        "id": "8heOYO4ZDevw",
        "outputId": "da227287-887d-4194-c77f-ff2c9fb918f7"
      },
      "execution_count": null,
      "outputs": [
        {
          "output_type": "stream",
          "name": "stdout",
          "text": [
            "Submission file 'rb36tn52_cnn_predictions_mnist.csv' has been saved.\n"
          ]
        }
      ]
    },
    {
      "cell_type": "code",
      "source": [],
      "metadata": {
        "id": "0Po0QtU7DqZQ"
      },
      "execution_count": null,
      "outputs": []
    }
  ]
}